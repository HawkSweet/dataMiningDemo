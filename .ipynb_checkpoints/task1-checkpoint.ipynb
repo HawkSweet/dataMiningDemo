{
 "cells": [
  {
   "cell_type": "code",
   "execution_count": 1,
   "metadata": {},
   "outputs": [],
   "source": [
    "# -*- coding: utf-8 -*-\n",
    "import pandas as pd\n",
    "import numpy as np\n",
    "import random\n",
    "import math"
   ]
  },
  {
   "cell_type": "code",
   "execution_count": 2,
   "metadata": {},
   "outputs": [],
   "source": [
    "def splitData(datasize, train_ratio):\n",
    "    train_set = set()\n",
    "    random.seed(2018)\n",
    "    for i in range(math.floor(train_ratio * datasize)):\n",
    "        train_set.add(random.randrange(0, datasize))\n",
    "    test_set = set(range(datasize)) - train_set\n",
    "    return train_set, test_set"
   ]
  },
  {
   "cell_type": "code",
   "execution_count": 5,
   "metadata": {
    "collapsed": true
   },
   "outputs": [
    {
     "name": "stdout",
     "output_type": "stream",
     "text": [
      "   Unnamed: 0   custid                          trade_no bank_card_no  \\\n",
      "0           5  2791858  20180507115231274000000023057383          卡号1   \n",
      "1          10   534047  20180507121002192000000023073000          卡号1   \n",
      "2          12  2849787  20180507125159718000000023114911          卡号1   \n",
      "3          13  1809708  20180507121358683000000388283484          卡号1   \n",
      "4          14  2499829  20180507115448545000000388205844          卡号1   \n",
      "\n",
      "   low_volume_percent  middle_volume_percent  \\\n",
      "0                0.01                   0.99   \n",
      "1                0.02                   0.94   \n",
      "2                0.04                   0.96   \n",
      "3                0.00                   0.96   \n",
      "4                0.01                   0.99   \n",
      "\n",
      "   take_amount_in_later_12_month_highest  trans_amount_increase_rate_lately  \\\n",
      "0                                      0                               0.90   \n",
      "1                                   2000                               1.28   \n",
      "2                                      0                               1.00   \n",
      "3                                   2000                               0.13   \n",
      "4                                      0                               0.46   \n",
      "\n",
      "   trans_activity_month  trans_activity_day  ...  loans_max_limit  \\\n",
      "0                  0.55               0.313  ...           2900.0   \n",
      "1                  1.00               0.458  ...           3500.0   \n",
      "2                  1.00               0.114  ...           1600.0   \n",
      "3                  0.57               0.777  ...           3200.0   \n",
      "4                  1.00               0.175  ...           2300.0   \n",
      "\n",
      "   loans_avg_limit  consfin_credit_limit  consfin_credibility  \\\n",
      "0           1688.0                1200.0                 75.0   \n",
      "1           1758.0               15100.0                 80.0   \n",
      "2           1250.0                4200.0                 87.0   \n",
      "3           1541.0               16300.0                 80.0   \n",
      "4           1630.0                8300.0                 79.0   \n",
      "\n",
      "   consfin_org_count_current  consfin_product_count  consfin_max_limit  \\\n",
      "0                        1.0                    2.0             1200.0   \n",
      "1                        5.0                    6.0            22800.0   \n",
      "2                        1.0                    1.0             4200.0   \n",
      "3                        5.0                    5.0            30000.0   \n",
      "4                        2.0                    2.0             8400.0   \n",
      "\n",
      "   consfin_avg_limit  latest_query_day  loans_latest_day  \n",
      "0             1200.0              12.0              18.0  \n",
      "1             9360.0               4.0               2.0  \n",
      "2             4200.0               2.0               6.0  \n",
      "3            12180.0               2.0               4.0  \n",
      "4             8250.0              22.0             120.0  \n",
      "\n",
      "[5 rows x 90 columns]\n"
     ]
    }
   ],
   "source": [
    "# # data details\n",
    "data_file = pd.read_csv('./data/data-utf8.csv')\n",
    "datasize = data_file.shape[0]\n",
    "print(data_file.head())"
   ]
  },
  {
   "cell_type": "code",
   "execution_count": null,
   "metadata": {},
   "outputs": [],
   "source": []
  }
 ],
 "metadata": {
  "kernelspec": {
   "display_name": "Python 3",
   "language": "python",
   "name": "python3"
  },
  "language_info": {
   "codemirror_mode": {
    "name": "ipython",
    "version": 3
   },
   "file_extension": ".py",
   "mimetype": "text/x-python",
   "name": "python",
   "nbconvert_exporter": "python",
   "pygments_lexer": "ipython3",
   "version": "3.7.3"
  }
 },
 "nbformat": 4,
 "nbformat_minor": 2
}
