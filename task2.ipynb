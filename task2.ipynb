{
 "cells": [
  {
   "cell_type": "markdown",
   "metadata": {},
   "source": [
    "# 任务二 - 特征工程\n",
    "* 特征工程是在训练集上做 还是所有原始数据\n",
    "* 这里选择在训练集上做特征工程"
   ]
  },
  {
   "cell_type": "markdown",
   "metadata": {},
   "source": [
    "## 1. 特征选择"
   ]
  },
  {
   "cell_type": "code",
   "execution_count": 2,
   "metadata": {},
   "outputs": [],
   "source": [
    "import numpy as np\n",
    "import pandas as pd"
   ]
  },
  {
   "cell_type": "code",
   "execution_count": 51,
   "metadata": {},
   "outputs": [
    {
     "data": {
      "text/html": [
       "<div>\n",
       "<style scoped>\n",
       "    .dataframe tbody tr th:only-of-type {\n",
       "        vertical-align: middle;\n",
       "    }\n",
       "\n",
       "    .dataframe tbody tr th {\n",
       "        vertical-align: top;\n",
       "    }\n",
       "\n",
       "    .dataframe thead th {\n",
       "        text-align: right;\n",
       "    }\n",
       "</style>\n",
       "<table border=\"1\" class=\"dataframe\">\n",
       "  <thead>\n",
       "    <tr style=\"text-align: right;\">\n",
       "      <th></th>\n",
       "      <th>low_volume_percent</th>\n",
       "      <th>middle_volume_percent</th>\n",
       "      <th>take_amount_in_later_12_month_highest</th>\n",
       "      <th>trans_amount_increase_rate_lately</th>\n",
       "      <th>trans_activity_month</th>\n",
       "      <th>trans_activity_day</th>\n",
       "      <th>transd_mcc</th>\n",
       "      <th>trans_days_interval_filter</th>\n",
       "      <th>trans_days_interval</th>\n",
       "      <th>regional_mobility</th>\n",
       "      <th>...</th>\n",
       "      <th>loans_max_limit</th>\n",
       "      <th>loans_avg_limit</th>\n",
       "      <th>consfin_credit_limit</th>\n",
       "      <th>consfin_credibility</th>\n",
       "      <th>consfin_org_count_current</th>\n",
       "      <th>consfin_product_count</th>\n",
       "      <th>consfin_max_limit</th>\n",
       "      <th>consfin_avg_limit</th>\n",
       "      <th>latest_query_day</th>\n",
       "      <th>loans_latest_day</th>\n",
       "    </tr>\n",
       "  </thead>\n",
       "  <tbody>\n",
       "    <tr>\n",
       "      <th>0</th>\n",
       "      <td>0.01</td>\n",
       "      <td>0.99</td>\n",
       "      <td>4000</td>\n",
       "      <td>0.96</td>\n",
       "      <td>1.00</td>\n",
       "      <td>0.405</td>\n",
       "      <td>16.0</td>\n",
       "      <td>29.0</td>\n",
       "      <td>28.0</td>\n",
       "      <td>1.0</td>\n",
       "      <td>...</td>\n",
       "      <td>5000.0</td>\n",
       "      <td>1845.0</td>\n",
       "      <td>10600.0</td>\n",
       "      <td>81.0</td>\n",
       "      <td>7.0</td>\n",
       "      <td>7.0</td>\n",
       "      <td>15600.0</td>\n",
       "      <td>8228.0</td>\n",
       "      <td>0.0</td>\n",
       "      <td>9.0</td>\n",
       "    </tr>\n",
       "    <tr>\n",
       "      <th>1</th>\n",
       "      <td>0.03</td>\n",
       "      <td>0.97</td>\n",
       "      <td>500</td>\n",
       "      <td>0.87</td>\n",
       "      <td>1.00</td>\n",
       "      <td>0.205</td>\n",
       "      <td>18.0</td>\n",
       "      <td>27.0</td>\n",
       "      <td>27.0</td>\n",
       "      <td>3.0</td>\n",
       "      <td>...</td>\n",
       "      <td>2600.0</td>\n",
       "      <td>1800.0</td>\n",
       "      <td>16300.0</td>\n",
       "      <td>78.0</td>\n",
       "      <td>5.0</td>\n",
       "      <td>5.0</td>\n",
       "      <td>21600.0</td>\n",
       "      <td>7160.0</td>\n",
       "      <td>30.0</td>\n",
       "      <td>27.0</td>\n",
       "    </tr>\n",
       "    <tr>\n",
       "      <th>2</th>\n",
       "      <td>0.02</td>\n",
       "      <td>0.86</td>\n",
       "      <td>0</td>\n",
       "      <td>1.98</td>\n",
       "      <td>0.70</td>\n",
       "      <td>0.205</td>\n",
       "      <td>18.0</td>\n",
       "      <td>53.0</td>\n",
       "      <td>33.0</td>\n",
       "      <td>2.0</td>\n",
       "      <td>...</td>\n",
       "      <td>2300.0</td>\n",
       "      <td>1500.0</td>\n",
       "      <td>10400.0</td>\n",
       "      <td>82.0</td>\n",
       "      <td>5.0</td>\n",
       "      <td>5.0</td>\n",
       "      <td>13800.0</td>\n",
       "      <td>10320.0</td>\n",
       "      <td>3.0</td>\n",
       "      <td>137.0</td>\n",
       "    </tr>\n",
       "    <tr>\n",
       "      <th>3</th>\n",
       "      <td>0.02</td>\n",
       "      <td>0.81</td>\n",
       "      <td>1000</td>\n",
       "      <td>1.49</td>\n",
       "      <td>0.73</td>\n",
       "      <td>0.555</td>\n",
       "      <td>23.0</td>\n",
       "      <td>15.0</td>\n",
       "      <td>8.0</td>\n",
       "      <td>4.0</td>\n",
       "      <td>...</td>\n",
       "      <td>4500.0</td>\n",
       "      <td>2500.0</td>\n",
       "      <td>6600.0</td>\n",
       "      <td>78.0</td>\n",
       "      <td>11.0</td>\n",
       "      <td>12.0</td>\n",
       "      <td>17400.0</td>\n",
       "      <td>6418.0</td>\n",
       "      <td>20.0</td>\n",
       "      <td>51.0</td>\n",
       "    </tr>\n",
       "    <tr>\n",
       "      <th>4</th>\n",
       "      <td>0.02</td>\n",
       "      <td>0.94</td>\n",
       "      <td>2000</td>\n",
       "      <td>1.28</td>\n",
       "      <td>1.00</td>\n",
       "      <td>0.458</td>\n",
       "      <td>19.0</td>\n",
       "      <td>30.0</td>\n",
       "      <td>14.0</td>\n",
       "      <td>4.0</td>\n",
       "      <td>...</td>\n",
       "      <td>3500.0</td>\n",
       "      <td>1758.0</td>\n",
       "      <td>15100.0</td>\n",
       "      <td>80.0</td>\n",
       "      <td>5.0</td>\n",
       "      <td>6.0</td>\n",
       "      <td>22800.0</td>\n",
       "      <td>9360.0</td>\n",
       "      <td>4.0</td>\n",
       "      <td>2.0</td>\n",
       "    </tr>\n",
       "  </tbody>\n",
       "</table>\n",
       "<p>5 rows × 81 columns</p>\n",
       "</div>"
      ],
      "text/plain": [
       "   low_volume_percent  middle_volume_percent  \\\n",
       "0                0.01                   0.99   \n",
       "1                0.03                   0.97   \n",
       "2                0.02                   0.86   \n",
       "3                0.02                   0.81   \n",
       "4                0.02                   0.94   \n",
       "\n",
       "   take_amount_in_later_12_month_highest  trans_amount_increase_rate_lately  \\\n",
       "0                                   4000                               0.96   \n",
       "1                                    500                               0.87   \n",
       "2                                      0                               1.98   \n",
       "3                                   1000                               1.49   \n",
       "4                                   2000                               1.28   \n",
       "\n",
       "   trans_activity_month  trans_activity_day  transd_mcc  \\\n",
       "0                  1.00               0.405        16.0   \n",
       "1                  1.00               0.205        18.0   \n",
       "2                  0.70               0.205        18.0   \n",
       "3                  0.73               0.555        23.0   \n",
       "4                  1.00               0.458        19.0   \n",
       "\n",
       "   trans_days_interval_filter  trans_days_interval  regional_mobility  ...  \\\n",
       "0                        29.0                 28.0                1.0  ...   \n",
       "1                        27.0                 27.0                3.0  ...   \n",
       "2                        53.0                 33.0                2.0  ...   \n",
       "3                        15.0                  8.0                4.0  ...   \n",
       "4                        30.0                 14.0                4.0  ...   \n",
       "\n",
       "   loans_max_limit  loans_avg_limit  consfin_credit_limit  \\\n",
       "0           5000.0           1845.0               10600.0   \n",
       "1           2600.0           1800.0               16300.0   \n",
       "2           2300.0           1500.0               10400.0   \n",
       "3           4500.0           2500.0                6600.0   \n",
       "4           3500.0           1758.0               15100.0   \n",
       "\n",
       "   consfin_credibility  consfin_org_count_current  consfin_product_count  \\\n",
       "0                 81.0                        7.0                    7.0   \n",
       "1                 78.0                        5.0                    5.0   \n",
       "2                 82.0                        5.0                    5.0   \n",
       "3                 78.0                       11.0                   12.0   \n",
       "4                 80.0                        5.0                    6.0   \n",
       "\n",
       "   consfin_max_limit  consfin_avg_limit  latest_query_day  loans_latest_day  \n",
       "0            15600.0             8228.0               0.0               9.0  \n",
       "1            21600.0             7160.0              30.0              27.0  \n",
       "2            13800.0            10320.0               3.0             137.0  \n",
       "3            17400.0             6418.0              20.0              51.0  \n",
       "4            22800.0             9360.0               4.0               2.0  \n",
       "\n",
       "[5 rows x 81 columns]"
      ]
     },
     "execution_count": 51,
     "metadata": {},
     "output_type": "execute_result"
    }
   ],
   "source": [
    "train_data = pd.read_csv('./data/train.csv')\n",
    "train_data.head()"
   ]
  },
  {
   "cell_type": "markdown",
   "metadata": {},
   "source": [
    "### 相关系数"
   ]
  },
  {
   "cell_type": "code",
   "execution_count": 61,
   "metadata": {},
   "outputs": [
    {
     "data": {
      "text/plain": [
       "status                                     1.000000\n",
       "trans_fail_top_count_enum_last_1_month     0.340668\n",
       "history_fail_fee                           0.324228\n",
       "loans_overdue_count                        0.289973\n",
       "latest_one_month_fail                      0.249941\n",
       "trans_fail_top_count_enum_last_6_month     0.141126\n",
       "rank_trad_1_month                          0.139368\n",
       "trans_fail_top_count_enum_last_12_month    0.121768\n",
       "top_trans_count_last_1_month               0.112420\n",
       "trans_day_last_12_month                    0.091685\n",
       "latest_six_month_loan                      0.072033\n",
       "latest_three_month_loan                    0.070949\n",
       "latest_query_day                           0.069994\n",
       "query_cash_count                           0.066914\n",
       "avg_price_top_last_12_valid_month          0.066507\n",
       "loans_count                                0.059762\n",
       "low_volume_percent                         0.053561\n",
       "consfin_product_count                      0.039973\n",
       "consfin_org_count_current                  0.038730\n",
       "consfin_org_count_behavior                 0.038730\n",
       "Name: status, dtype: float64"
      ]
     },
     "execution_count": 61,
     "metadata": {},
     "output_type": "execute_result"
    }
   ],
   "source": [
    "#查看预测特征与其它特征之间的相关系数\n",
    "corr = train_data.corr()[\"status\"].sort_values(ascending = False)\n",
    "corr[:20]"
   ]
  },
  {
   "cell_type": "markdown",
   "metadata": {},
   "source": [
    "### 2.1 IV筛选特征\n",
    "参考：https://www.jianshu.com/p/9a34892ee9e5"
   ]
  },
  {
   "cell_type": "code",
   "execution_count": 35,
   "metadata": {},
   "outputs": [],
   "source": [
    "from sklearn.utils.multiclass import type_of_target\n",
    "from scipy import stats\n",
    "import math\n",
    "\n",
    "#求woe值和iv值\n",
    "def woe(X, y, event):\n",
    "    res_woe = []  #列表存放woe字典\n",
    "    res_iv = []  #列表存放iv\n",
    "    X1 = feature_discretion(X) #对连续型特征进行处理\n",
    "    for i in range(0, X1.shape[-1]):  #遍历所有特征\n",
    "        x = X1[:, i]  #单个特征\n",
    "        woe_dict, iv1 = woe_single_x(x, y, event)  #计算单个特征的woe值\n",
    "        res_woe.append(woe_dict)\n",
    "        res_iv.append(iv1)\n",
    "    return np.array(res_woe), np.array(res_iv)  #返回数组"
   ]
  },
  {
   "cell_type": "code",
   "execution_count": 36,
   "metadata": {},
   "outputs": [],
   "source": [
    "#求单个特征的woe值\n",
    "def woe_single_x(x, y, event):\n",
    "    event_total, non_event_total = count_binary(y, event) #计算好人坏人总数\n",
    "    x_labels = np.unique(x) #特征中的分段\n",
    "    woe_dict = {}  #存放每个分段的名称 以及 其对应的woe值\n",
    "    iv = 0\n",
    "    for x1 in x_labels: #遍历每个分段\n",
    "        y1 = y[np.where(x == x1)[0]]\n",
    "        event_count, non_event_count = count_binary(y1, event=event)\n",
    "        rate_event = 1.0 * event_count / event_total\n",
    "        rate_non_event = 1.0 * non_event_count / non_event_total\n",
    "        #woe无穷大时处理\n",
    "        if rate_event == 0:\n",
    "            print()#print(\"{'\",x1,\"'}\"+\":全是好人\") #只输出不做处理\n",
    "        elif rate_non_event == 0:\n",
    "            print()#print(\"{'\",x1,\"'}\"+\":全是坏人\")\n",
    "        else:\n",
    "            woe1 = math.log(rate_event / rate_non_event)\n",
    "            woe_dict[x1] = woe1  \n",
    "            iv += (rate_event - rate_non_event) * woe1\n",
    "    return woe_dict, iv"
   ]
  },
  {
   "cell_type": "code",
   "execution_count": 37,
   "metadata": {},
   "outputs": [],
   "source": [
    "#计算个数\n",
    "def count_binary(a, event):\n",
    "    event_count = (a == event).sum()\n",
    "    non_event_count = a.shape[-1] - event_count\n",
    "    return event_count, non_event_count"
   ]
  },
  {
   "cell_type": "code",
   "execution_count": 38,
   "metadata": {},
   "outputs": [],
   "source": [
    "#判断特征数据是否为离散型\n",
    "def feature_discretion(X):\n",
    "    temp = []\n",
    "    for i in range(0, X.shape[-1]):\n",
    "        x = X[:, i]\n",
    "        x_type = type_of_target(x)\n",
    "        if pd.Series(list(x)).dtype != 'O':\n",
    "            x1 = discrete(x)\n",
    "            temp.append(x1)\n",
    "        else:\n",
    "            temp.append(x)\n",
    "    return np.array(temp).T"
   ]
  },
  {
   "cell_type": "markdown",
   "metadata": {},
   "source": [
    "### 目标变量和特征特征"
   ]
  },
  {
   "cell_type": "code",
   "execution_count": 71,
   "metadata": {},
   "outputs": [
    {
     "data": {
      "text/plain": [
       "array([1, 0, 0, ..., 1, 0, 0], dtype=int64)"
      ]
     },
     "execution_count": 71,
     "metadata": {},
     "output_type": "execute_result"
    }
   ],
   "source": [
    "#目标变量\n",
    "y = train_data['status'].values\n",
    "# 所有特征\n",
    "x = train_data.drop(['status'],axis=1).values\n",
    "y"
   ]
  },
  {
   "cell_type": "markdown",
   "metadata": {},
   "source": [
    "### 计算所有特征的iv"
   ]
  },
  {
   "cell_type": "code",
   "execution_count": 90,
   "metadata": {},
   "outputs": [
    {
     "data": {
      "text/plain": [
       "[('trans_fail_top_count_enum_last_1_month', 0.5738251555141427),\n",
       " ('history_suc_fee', 0.5032245133297788),\n",
       " ('latest_six_month_apply', 0.43866404297963046),\n",
       " ('loans_settle_count', 0.35919819707466094),\n",
       " ('trans_day_last_12_month', 0.34408240900678505),\n",
       " ('trans_fail_top_count_enum_last_12_month', 0.2644876668331204),\n",
       " ('trans_fail_top_count_enum_last_6_month', 0.25640227596356635),\n",
       " ('latest_one_month_suc', 0.14714140965160658),\n",
       " ('history_fail_fee', 0.12851330530009836),\n",
       " ('rank_trad_1_month', 0.09658511076715653),\n",
       " ('max_cumulative_consume_later_1_month', 0.09410939090142396),\n",
       " ('first_transaction_day', 0.0874862341754116),\n",
       " ('trans_top_time_last_1_month', 0.0826299051197211),\n",
       " ('pawns_auctions_trusts_consume_last_1_month', 0.05951063024820402),\n",
       " ('top_trans_count_last_1_month', 0.05823744436103096),\n",
       " ('consfin_max_limit', 0.05796154598230204),\n",
       " ('trans_amount_3_month', 0.04338806330064936),\n",
       " ('loans_avg_limit', 0.04301830985857236),\n",
       " ('latest_one_month_loan', 0.03975843902475576),\n",
       " ('consume_top_time_last_1_month', 0.039553384369366236),\n",
       " ('consfin_avg_limit', 0.03525666048429177),\n",
       " ('avg_price_last_12_month', 0.03370632920751868),\n",
       " ('latest_three_month_loan', 0.03194947894258447),\n",
       " ('consfin_product_count', 0.031707405500205135),\n",
       " ('query_sum_count', 0.028164527753408414),\n",
       " ('avg_price_top_last_12_valid_month', 0.02699137000635695),\n",
       " ('trans_days_interval', 0.0258691261582017),\n",
       " ('trans_amount_increase_rate_lately', 0.025350111929665492),\n",
       " ('query_finance_count', 0.0251375140862656),\n",
       " ('loans_org_count_behavior', 0.024687058901984138),\n",
       " ('consfin_credibility', 0.024687058901984138),\n",
       " ('consfin_org_count_current', 0.02407991993232307),\n",
       " ('loans_overdue_count', 0.01973561403505824),\n",
       " ('middle_volume_percent', 0.01724265925694369),\n",
       " ('query_org_count', 0.01633926245147575),\n",
       " ('historical_trans_day', 0.015995896851179057),\n",
       " ('number_of_trans_from_2011', 0.015599686511421053),\n",
       " ('low_volume_percent', 0.015486004126402397),\n",
       " ('loans_credibility_behavior', 0.01518292210171655),\n",
       " ('loans_org_count_current', 0.015035480994051099),\n",
       " ('status', 0.014583989207158869),\n",
       " ('pawns_auctions_trusts_consume_last_6_month', 0.01456937608182113),\n",
       " ('historical_trans_amount', 0.014464838726127869),\n",
       " ('consfin_credit_limit', 0.014325386930778556),\n",
       " ('latest_one_month_apply', 0.014305051510721898),\n",
       " ('loans_product_count', 0.014296645529955316),\n",
       " ('consume_top_time_last_6_month', 0.013519804453828572),\n",
       " ('trans_top_time_last_6_month', 0.013512726819735539),\n",
       " ('apply_score', 0.012946924174719352),\n",
       " ('consfin_org_count_behavior', 0.012599799463708384),\n",
       " ('loans_credibility_limit', 0.012599799463708384),\n",
       " ('transd_mcc', 0.011781595267027288),\n",
       " ('trans_days_interval_filter', 0.011253280235983817),\n",
       " ('query_cash_count', 0.011041881925720181),\n",
       " ('latest_query_day', 0.011032539150262866),\n",
       " ('loans_max_limit', 0.01091669020686767),\n",
       " ('trans_activity_day', 0.010750014686331575),\n",
       " ('loans_score', 0.0105270374354757),\n",
       " ('apply_credibility', 0.010244205953466406),\n",
       " ('consume_mini_time_last_1_month', 0.009577509112867935),\n",
       " ('loans_long_time', 0.00896910373257619),\n",
       " ('abs', 0.008360796516041857),\n",
       " ('trans_activity_month', 0.00817203793866026),\n",
       " ('loans_credit_limit', 0.006688081656480208),\n",
       " ('latest_three_month_apply', 0.006175340733632111),\n",
       " ('regional_mobility', 0.005448033372257756),\n",
       " ('take_amount_in_later_12_month_highest', 0.004194902998756873),\n",
       " ('max_consume_count_later_6_month', 0.0040215653437599835),\n",
       " ('loans_cash_count', 0.0027318631810237435),\n",
       " ('latest_six_month_loan', 0.002699786046425319),\n",
       " ('cross_consume_count_last_1_month', 0.0022962398740564434),\n",
       " ('latest_one_month_fail', 0.0022081553774813377),\n",
       " ('repayment_capability', 0.0013215572692883452),\n",
       " ('loans_count', 0.0012003669659983612),\n",
       " ('avg_consume_less_12_valid_month', 0.0008891024683676332),\n",
       " ('student_feature', 0.0006099909703652028),\n",
       " ('reg_preference_for_trad', 0.00023291129311896086),\n",
       " ('is_high_user', 0.0),\n",
       " ('railway_consume_count_last_12_month', 0.0),\n",
       " ('jewelry_consume_count_last_6_month', 0.0)]"
      ]
     },
     "execution_count": 90,
     "metadata": {},
     "output_type": "execute_result"
    }
   ],
   "source": [
    "res_woe, res_iv = woe(x, y, y[0])\n",
    "dic = dict(zip(train_data.columns.values, res_iv))  #特征列表:IV值列表\n",
    "dic_sort = sorted(dic.items(), key=lambda x: x[1], reverse=True)\n",
    "fout = open('./data/feature_iv.txt', 'w')\n",
    "for feature,iv in dic_sort:\n",
    "    fout.write('%s;%s\\n'%(feature,iv))\n",
    "fout.close()\n",
    "dic_sort"
   ]
  },
  {
   "cell_type": "markdown",
   "metadata": {},
   "source": [
    "### 2.2 随机森林\n",
    "参考：https://github.com/jameszhenyu/ML_data/blob/master/feature_select.ipynb"
   ]
  },
  {
   "cell_type": "code",
   "execution_count": 73,
   "metadata": {},
   "outputs": [],
   "source": [
    "from sklearn.ensemble import RandomForestRegressor"
   ]
  },
  {
   "cell_type": "code",
   "execution_count": 75,
   "metadata": {},
   "outputs": [
    {
     "name": "stderr",
     "output_type": "stream",
     "text": [
      "D:\\Program Files\\Anaconda3\\lib\\site-packages\\sklearn\\ensemble\\forest.py:246: FutureWarning: The default value of n_estimators will change from 10 in version 0.20 to 100 in 0.22.\n",
      "  \"10 in version 0.20 to 100 in 0.22.\", FutureWarning)\n"
     ]
    },
    {
     "data": {
      "text/plain": [
       "[('0.0923', 'trans_fail_top_count_enum_last_1_month'),\n",
       " ('0.0881', 'history_fail_fee'),\n",
       " ('0.0332', 'loans_score'),\n",
       " ('0.0303', 'trans_day_last_12_month'),\n",
       " ('0.0234', 'trans_amount_3_month'),\n",
       " ('0.0219', 'repayment_capability'),\n",
       " ('0.0211', 'trans_amount_increase_rate_lately'),\n",
       " ('0.0204', 'latest_one_month_fail'),\n",
       " ('0.0201', 'apply_score'),\n",
       " ('0.0198', 'loans_latest_day')]"
      ]
     },
     "execution_count": 75,
     "metadata": {},
     "output_type": "execute_result"
    }
   ],
   "source": [
    "#目标变量 dataframe\n",
    "y_train = train_data['status']\n",
    "# 所有特征\n",
    "x_train = train_data.drop(['status'],axis=1)\n",
    "\n",
    "rf = RandomForestRegressor()\n",
    "rf.fit(x_train, y_train)# x是所有特征  y是目标值\n",
    "random_forrest = sorted(zip(map(lambda x: '%.4f'%x, rf.feature_importances_), list(x_train.columns)), reverse=True)\n",
    "\n",
    "len(random_forrest)\n",
    "random_forrest[:10]"
   ]
  },
  {
   "cell_type": "code",
   "execution_count": null,
   "metadata": {},
   "outputs": [],
   "source": []
  }
 ],
 "metadata": {
  "kernelspec": {
   "display_name": "Python 3",
   "language": "python",
   "name": "python3"
  },
  "language_info": {
   "codemirror_mode": {
    "name": "ipython",
    "version": 3
   },
   "file_extension": ".py",
   "mimetype": "text/x-python",
   "name": "python",
   "nbconvert_exporter": "python",
   "pygments_lexer": "ipython3",
   "version": "3.7.1"
  }
 },
 "nbformat": 4,
 "nbformat_minor": 2
}
